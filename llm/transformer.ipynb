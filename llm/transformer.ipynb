{
 "cells": [
  {
   "cell_type": "markdown",
   "id": "a2fcc4f2-b39c-476e-a674-8cb98e8ce450",
   "metadata": {},
   "source": [
    "# 1 概述"
   ]
  },
  {
   "cell_type": "code",
   "execution_count": null,
   "id": "d219cff6-942d-4de9-849b-664a245f1a51",
   "metadata": {},
   "outputs": [],
   "source": []
  }
 ],
 "metadata": {
  "kernelspec": {
   "display_name": "Python 3 (ipykernel)",
   "language": "python",
   "name": "python3"
  },
  "language_info": {
   "codemirror_mode": {
    "name": "ipython",
    "version": 3
   },
   "file_extension": ".py",
   "mimetype": "text/x-python",
   "name": "python",
   "nbconvert_exporter": "python",
   "pygments_lexer": "ipython3",
   "version": "3.7.12"
  }
 },
 "nbformat": 4,
 "nbformat_minor": 5
}
