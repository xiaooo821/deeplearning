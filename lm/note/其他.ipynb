{
 "cells": [
  {
   "cell_type": "markdown",
   "id": "e0969da8-17d4-4d34-bf1c-e99be7bd52cb",
   "metadata": {},
   "source": [
    "- 出错优先看出错日志！请仔细看是哪个文件出错"
   ]
  },
  {
   "cell_type": "markdown",
   "id": "14048d72",
   "metadata": {},
   "source": [
    "文档：https://zh.d2l.ai/chapter_multilayer-perceptrons/mlp.html \n",
    "\n",
    "github笔记：https://github.com/AccumulateMore/CV/blob/main/208_多层感知机.ipynb"
   ]
  },
  {
   "cell_type": "markdown",
   "id": "7134b01e",
   "metadata": {},
   "source": [
    "想看的：\n",
    "- sum（）？https://geek-docs.com/pytorch/pytorch-questions/45_pytorch_why_torchsum_before_doing_backward.html"
   ]
  },
  {
   "cell_type": "markdown",
   "id": "74dbbc44",
   "metadata": {},
   "source": [
    "macbook实现gpu：https://blog.csdn.net/xiangfengl/article/details/130940480?utm_medium=distribute.pc_relevant.none-task-blog-2~default~baidujs_baidulandingword~default-0-130940480-blog-134351364.235^v43^pc_blog_bottom_relevance_base8&spm=1001.2101.3001.4242.1&utm_relevant_index=3\n",
    "\n",
    "https://zhuanlan.zhihu.com/p/517699916\n",
    "https://zhuanlan.zhihu.com/p/549737512"
   ]
  },
  {
   "cell_type": "markdown",
   "id": "f401d5d9",
   "metadata": {},
   "source": [
    "值得思考的一个问题，关于卷积核的bias：https://discuss.d2l.ai/t/topic/1854/2"
   ]
  },
  {
   "cell_type": "markdown",
   "id": "fba219bf",
   "metadata": {},
   "source": [
    "gpu租用   \n",
    "autodl：https://www.autodl.com/home"
   ]
  },
  {
   "cell_type": "markdown",
   "id": "c51b7ba7-3e98-4267-a71e-bdf101887f18",
   "metadata": {},
   "source": [
    "https://www.autodl.com/create/nm-B1/9ac74591c1/1/payg"
   ]
  },
  {
   "cell_type": "markdown",
   "id": "da424b0d-9c9b-4285-b2fe-152e96488f62",
   "metadata": {},
   "source": [
    "d2l才是正确时kernel！"
   ]
  },
  {
   "cell_type": "code",
   "execution_count": null,
   "id": "a13477ce-e0e9-4a58-b862-a19f2ecbc0ae",
   "metadata": {},
   "outputs": [],
   "source": []
  }
 ],
 "metadata": {
  "kernelspec": {
   "display_name": "d2l",
   "language": "python",
   "name": "d2l"
  },
  "language_info": {
   "codemirror_mode": {
    "name": "ipython",
    "version": 3
   },
   "file_extension": ".py",
   "mimetype": "text/x-python",
   "name": "python",
   "nbconvert_exporter": "python",
   "pygments_lexer": "ipython3",
   "version": "3.8.20"
  }
 },
 "nbformat": 4,
 "nbformat_minor": 5
}
