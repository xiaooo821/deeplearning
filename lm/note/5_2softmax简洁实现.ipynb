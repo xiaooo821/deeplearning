{
 "cells": [
  {
   "cell_type": "markdown",
   "id": "3805c8fd",
   "metadata": {},
   "source": [
    "# 简洁实现"
   ]
  },
  {
   "cell_type": "code",
   "execution_count": 2,
   "id": "3d172de2",
   "metadata": {},
   "outputs": [],
   "source": [
    "import torch\n",
    "from torch import nn\n",
    "import d2l\n",
    "batch_size = 256\n",
    "train_iter, test_iter = d2l.load_data_fashion_mnist(batch_size)"
   ]
  },
  {
   "cell_type": "code",
   "execution_count": 3,
   "id": "84faee22",
   "metadata": {},
   "outputs": [],
   "source": [
    "# 初始化模型参数\n",
    "## Flatten()函数只保留第一个维度，其他全部展开成一个向量 \n",
    "net = nn.Sequential(nn.Flatten(), nn.Linear(784, 10))\n",
    "\n",
    "def init_weights(m):\n",
    "    if type(m) == nn.Linear:\n",
    "        nn.init.normal_(m.weight, std=0.01)  # normal_ 是其中的一个初始化方法，它会按照正态分布来初始化给定的张量参数\n",
    "## apply 方法：递归地对各个神经网络层应用传入的函数（在这里就是 init_weights 函数）\n",
    "net.apply(init_weights);\n",
    "\n",
    "# 损失函数：交叉熵损失函数\n",
    "loss = nn.CrossEntropyLoss(reduction='none')\n",
    "\n",
    "# 优化算法：随机梯度下降\n",
    "trainer = torch.optim.SGD(net.parameters(), lr=0.1)"
   ]
  },
  {
   "cell_type": "code",
   "execution_count": null,
   "id": "d9e7d5d7",
   "metadata": {},
   "outputs": [],
   "source": [
    "# 训练\n",
    "num_epochs = 10\n",
    "d2l.train_ch3(net, train_iter, test_iter, loss, num_epochs, trainer)"
   ]
  }
 ],
 "metadata": {
  "kernelspec": {
   "display_name": "py37",
   "language": "python",
   "name": "py37"
  },
  "language_info": {
   "codemirror_mode": {
    "name": "ipython",
    "version": 3
   },
   "file_extension": ".py",
   "mimetype": "text/x-python",
   "name": "python",
   "nbconvert_exporter": "python",
   "pygments_lexer": "ipython3",
   "version": "3.7.12"
  }
 },
 "nbformat": 4,
 "nbformat_minor": 5
}
