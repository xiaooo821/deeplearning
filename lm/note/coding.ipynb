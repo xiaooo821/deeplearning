{
 "cells": [
  {
   "cell_type": "code",
   "execution_count": 2,
   "id": "507f7ec5-da19-4bec-b3d5-790a1c596aa7",
   "metadata": {},
   "outputs": [],
   "source": [
    "import torch\n",
    "import numpy as np"
   ]
  },
  {
   "cell_type": "code",
   "execution_count": 3,
   "id": "c3418488-c6a4-40de-b534-2ceaa2dae294",
   "metadata": {},
   "outputs": [
    {
     "data": {
      "text/plain": [
       "tensor([[ 0,  1,  2,  3,  4,  5],\n",
       "        [ 6,  7,  8,  9, 10, 11]])"
      ]
     },
     "execution_count": 3,
     "metadata": {},
     "output_type": "execute_result"
    }
   ],
   "source": [
    "x = torch.arange(12)\n",
    "x=x.reshape(-1,6)\n",
    "x"
   ]
  },
  {
   "cell_type": "code",
   "execution_count": 6,
   "id": "58db77c7-f151-4dfd-92f5-65a029032b7e",
   "metadata": {},
   "outputs": [
    {
     "data": {
      "text/plain": [
       "tensor([[0., 0., 0., 0., 0.],\n",
       "        [0., 0., 0., 0., 0.],\n",
       "        [0., 0., 0., 0., 0.],\n",
       "        [0., 0., 0., 0., 0.],\n",
       "        [0., 0., 0., 0., 0.]])"
      ]
     },
     "execution_count": 6,
     "metadata": {},
     "output_type": "execute_result"
    }
   ],
   "source": [
    "y=torch.zeros(5,5)\n",
    "y"
   ]
  },
  {
   "cell_type": "code",
   "execution_count": 8,
   "id": "667bda5d-34ba-4e79-9790-13ea2199ea06",
   "metadata": {},
   "outputs": [
    {
     "data": {
      "text/plain": [
       "tensor([[[-0.4159,  0.4643],\n",
       "         [-0.7814, -0.6830],\n",
       "         [ 0.9656, -0.4380]]])"
      ]
     },
     "execution_count": 8,
     "metadata": {},
     "output_type": "execute_result"
    }
   ],
   "source": [
    "torch.randn(1,3,2)"
   ]
  },
  {
   "cell_type": "code",
   "execution_count": 10,
   "id": "3b2815d6-b419-4686-abf9-319f32648591",
   "metadata": {},
   "outputs": [
    {
     "data": {
      "text/plain": [
       "(tensor([[ 0.0000,  1.0000,  2.0000,  3.0000],\n",
       "         [ 4.0000,  5.0000,  6.0000,  7.0000],\n",
       "         [ 8.0000,  9.0000, 10.0000, 11.0000],\n",
       "         [ 1.4047,  0.0129,  0.1018, -0.7471],\n",
       "         [-1.1451,  0.8045, -0.9998, -1.4616],\n",
       "         [-0.1801, -1.2858,  0.4109, -0.4362]]),\n",
       " tensor([[ 0.0000,  1.0000,  2.0000,  3.0000,  1.4047,  0.0129,  0.1018, -0.7471],\n",
       "         [ 4.0000,  5.0000,  6.0000,  7.0000, -1.1451,  0.8045, -0.9998, -1.4616],\n",
       "         [ 8.0000,  9.0000, 10.0000, 11.0000, -0.1801, -1.2858,  0.4109, -0.4362]]))"
      ]
     },
     "execution_count": 10,
     "metadata": {},
     "output_type": "execute_result"
    }
   ],
   "source": [
    "x=torch.arange(12).reshape(-1,4)\n",
    "y=torch.randn(3,4)\n",
    "torch.cat((x,y),dim=0),torch.cat((x,y),dim=1)"
   ]
  },
  {
   "cell_type": "code",
   "execution_count": 12,
   "id": "c396db0a-929e-4064-bb71-a6b20d75d739",
   "metadata": {},
   "outputs": [
    {
     "data": {
      "text/plain": [
       "tensor([[False, False, False, False],\n",
       "        [False, False, False, False],\n",
       "        [False, False, False, False]])"
      ]
     },
     "execution_count": 12,
     "metadata": {},
     "output_type": "execute_result"
    }
   ],
   "source": [
    "x==y"
   ]
  },
  {
   "cell_type": "code",
   "execution_count": 14,
   "id": "8084ef05-3d1e-4340-9527-65a642fd542e",
   "metadata": {},
   "outputs": [
    {
     "ename": "RuntimeError",
     "evalue": "The size of tensor a (2) must match the size of tensor b (3) at non-singleton dimension 0",
     "output_type": "error",
     "traceback": [
      "\u001b[0;31m---------------------------------------------------------------------------\u001b[0m",
      "\u001b[0;31mRuntimeError\u001b[0m                              Traceback (most recent call last)",
      "Cell \u001b[0;32mIn[14], line 3\u001b[0m\n\u001b[1;32m      1\u001b[0m X\u001b[38;5;241m=\u001b[39mtorch\u001b[38;5;241m.\u001b[39marange(\u001b[38;5;241m12\u001b[39m)\u001b[38;5;241m.\u001b[39mreshape(\u001b[38;5;241m2\u001b[39m,\u001b[38;5;241m6\u001b[39m)\n\u001b[1;32m      2\u001b[0m Y\u001b[38;5;241m=\u001b[39mtorch\u001b[38;5;241m.\u001b[39marange(\u001b[38;5;241m3\u001b[39m)\u001b[38;5;241m.\u001b[39mreshape(\u001b[38;5;241m3\u001b[39m,\u001b[38;5;241m1\u001b[39m)\n\u001b[0;32m----> 3\u001b[0m X\u001b[38;5;241m+\u001b[39mY\n",
      "\u001b[0;31mRuntimeError\u001b[0m: The size of tensor a (2) must match the size of tensor b (3) at non-singleton dimension 0"
     ]
    }
   ],
   "source": [
    "X=torch.arange(12).reshape(2,6)\n",
    "Y=torch.arange(3).reshape(3,1)\n",
    "X+Y"
   ]
  },
  {
   "cell_type": "markdown",
   "id": "4d5b4bc6-2a33-4b18-ad9d-29b997313563",
   "metadata": {},
   "source": [
    "- <font color=red>广播机制要求两个张量在每个维度上的大小要么相同，要么其中一个张量在该维度上的大小为 1。这样，小尺寸的张量会在这个维度上自动扩展（广播）以匹配大尺寸张量的形状"
   ]
  },
  {
   "cell_type": "code",
   "execution_count": 16,
   "id": "0bc0dd3b-a6d1-454f-b2a6-c52eb70ae4bd",
   "metadata": {},
   "outputs": [
    {
     "data": {
      "text/plain": [
       "tensor([[ 0,  1,  2,  3,  4,  5,  6,  7,  8,  9, 10, 11],\n",
       "        [ 1,  2,  3,  4,  5,  6,  7,  8,  9, 10, 11, 12],\n",
       "        [ 2,  3,  4,  5,  6,  7,  8,  9, 10, 11, 12, 13]])"
      ]
     },
     "execution_count": 16,
     "metadata": {},
     "output_type": "execute_result"
    }
   ],
   "source": [
    "X=torch.arange(12).reshape(1,12)\n",
    "Y=torch.arange(3).reshape(3,1)\n",
    "X+Y"
   ]
  },
  {
   "cell_type": "code",
   "execution_count": 18,
   "id": "91c9b3f3-b0fa-4069-a6f7-a61c25912bc8",
   "metadata": {},
   "outputs": [
    {
     "data": {
      "text/plain": [
       "True"
      ]
     },
     "execution_count": 18,
     "metadata": {},
     "output_type": "execute_result"
    }
   ],
   "source": [
    "a= torch.arange(12, dtype=torch.float32).reshape((1,12))\n",
    "b=torch.randn(12).reshape(1,12)\n",
    "before = id(a)\n",
    "a += b\n",
    "id(a) == before"
   ]
  },
  {
   "cell_type": "code",
   "execution_count": 20,
   "id": "95c06568-c877-4096-96d2-307026e0e4f7",
   "metadata": {},
   "outputs": [
    {
     "data": {
      "text/plain": [
       "(numpy.ndarray, torch.Tensor, torch.Size([1, 12]))"
      ]
     },
     "execution_count": 20,
     "metadata": {},
     "output_type": "execute_result"
    }
   ],
   "source": [
    "A=a.numpy()\n",
    "B=torch.tensor(A)\n",
    "type(A),type(B),B.size()"
   ]
  },
  {
   "cell_type": "code",
   "execution_count": 22,
   "id": "2c55010d-d53d-4dc3-a866-ecd34cdffc36",
   "metadata": {},
   "outputs": [
    {
     "data": {
      "text/plain": [
       "(3, 3.0)"
      ]
     },
     "execution_count": 22,
     "metadata": {},
     "output_type": "execute_result"
    }
   ],
   "source": [
    "b=torch.tensor([3])\n",
    "b.item(),float(b)"
   ]
  },
  {
   "cell_type": "markdown",
   "id": "98a91731-3250-4f02-b02d-d6f4f6d44ec6",
   "metadata": {},
   "source": [
    "_______\n"
   ]
  },
  {
   "cell_type": "code",
   "execution_count": 25,
   "id": "e049b187-123d-47e4-9369-71ad87cd0381",
   "metadata": {},
   "outputs": [],
   "source": [
    "import os\n",
    "\n",
    "os.makedirs(os.path.join('..', 'data'), exist_ok=True)\n",
    "data_file = os.path.join('..', 'data', 'house_tiny.csv')\n",
    "with open(data_file, 'w') as f:\n",
    "    f.write('NumRooms,Alley,Price\\n')  # 列名\n",
    "    f.write('NA,Pave,127500\\n')  # 每行表示一个数据样本\n",
    "    f.write('2,NA,106000\\n')\n",
    "    f.write('4,NA,178100\\n')\n",
    "    f.write('NA,NA,140000\\n')"
   ]
  },
  {
   "cell_type": "code",
   "execution_count": 35,
   "id": "bb04916c-0656-4391-9e6f-bb7b5a2a600d",
   "metadata": {},
   "outputs": [
    {
     "name": "stdout",
     "output_type": "stream",
     "text": [
      "   NumRooms Alley   Price\n",
      "0       NaN  Pave  127500\n",
      "1       2.0   NaN  106000\n",
      "2       4.0   NaN  178100\n",
      "3       NaN   NaN  140000\n"
     ]
    }
   ],
   "source": [
    "import pandas as pd\n",
    "\n",
    "data = pd.read_csv(data_file)\n",
    "print(data)\n",
    "inputs,outputs=data.iloc[:,0:2],data.iloc[:,2]"
   ]
  },
  {
   "cell_type": "code",
   "execution_count": 79,
   "id": "24d89922-955c-43b7-b046-f512bb2cff28",
   "metadata": {},
   "outputs": [
    {
     "name": "stdout",
     "output_type": "stream",
     "text": [
      "   NumRooms Alley\n",
      "0       3.0  Pave\n",
      "1       2.0   NaN\n",
      "2       4.0   NaN\n",
      "3       3.0   NaN\n"
     ]
    }
   ],
   "source": [
    "inputs, outputs = data.iloc[:, 0:2], data.iloc[:, 2]\n",
    "inputs = inputs.fillna(inputs.mean(numeric_only=True))\n",
    "print(inputs)"
   ]
  },
  {
   "cell_type": "code",
   "execution_count": 71,
   "id": "f78eefb0-74c1-4d8c-a950-cf7ca6970a12",
   "metadata": {},
   "outputs": [
    {
     "name": "stdout",
     "output_type": "stream",
     "text": [
      "   NumRooms  Alley_Pave  Alley_nan\n",
      "0       3.0        True      False\n",
      "1       2.0       False       True\n",
      "2       4.0       False       True\n",
      "3       3.0       False       True\n"
     ]
    }
   ],
   "source": [
    "inputs=pd.get_dummies(inputs,dummy_na=True)\n",
    "print(inputs)"
   ]
  },
  {
   "cell_type": "markdown",
   "id": "1354b7c5-7b27-457b-979d-818087dad4c0",
   "metadata": {},
   "source": [
    "___\n"
   ]
  },
  {
   "cell_type": "code",
   "execution_count": 117,
   "id": "6a0a0745-e398-41e4-a886-08cf84d2b184",
   "metadata": {},
   "outputs": [],
   "source": [
    "A=torch.arange(120).reshape(2,5,3,4)\n"
   ]
  },
  {
   "cell_type": "code",
   "execution_count": 115,
   "id": "e18aecfe-a98b-4390-9b67-b5bed34a0408",
   "metadata": {},
   "outputs": [
    {
     "data": {
      "text/plain": [
       "True"
      ]
     },
     "execution_count": 115,
     "metadata": {},
     "output_type": "execute_result"
    }
   ],
   "source": [
    "A=torch.arange(12,dtype=torch.float32).reshape(3,4)\n",
    "B=A\n",
    "id(A)==id(B)"
   ]
  },
  {
   "cell_type": "code",
   "execution_count": 184,
   "id": "b8c62ff6-d542-441f-a5e9-6da0dfe3c476",
   "metadata": {},
   "outputs": [
    {
     "data": {
      "text/plain": [
       "(tensor([[[ 0.,  1.,  2.,  3.],\n",
       "          [ 4.,  5.,  6.,  7.],\n",
       "          [ 8.,  9., 10., 11.]],\n",
       " \n",
       "         [[12., 13., 14., 15.],\n",
       "          [16., 17., 18., 19.],\n",
       "          [20., 21., 22., 23.]]]),\n",
       " torch.Size([2, 3, 4]),\n",
       " torch.float32)"
      ]
     },
     "execution_count": 184,
     "metadata": {},
     "output_type": "execute_result"
    }
   ],
   "source": [
    "A=torch.arange(24,dtype=torch.float32).reshape(2,3,4)\n",
    "A,A.shape,A.dtype # 先看形状"
   ]
  },
  {
   "cell_type": "code",
   "execution_count": 194,
   "id": "20a93c53-b746-4f69-a4fd-b4455eeacba7",
   "metadata": {},
   "outputs": [
    {
     "data": {
      "text/plain": [
       "(tensor([[[ 0.,  1.,  2.,  3.],\n",
       "          [ 4.,  5.,  6.,  7.],\n",
       "          [ 8.,  9., 10., 11.]],\n",
       " \n",
       "         [[12., 14., 16., 18.],\n",
       "          [20., 22., 24., 26.],\n",
       "          [28., 30., 32., 34.]]]),\n",
       " tensor([[12., 15., 18., 21.],\n",
       "         [48., 51., 54., 57.]]),\n",
       " tensor([[ 6., 22., 38.],\n",
       "         [54., 70., 86.]]))"
      ]
     },
     "execution_count": 194,
     "metadata": {},
     "output_type": "execute_result"
    }
   ],
   "source": [
    "A.cumsum(dim=0),A.sum(dim=1),A.sum(dim=2)"
   ]
  },
  {
   "cell_type": "code",
   "execution_count": 238,
   "id": "139862a1-4efd-4d54-a966-ab0a1f0322d9",
   "metadata": {},
   "outputs": [
    {
     "data": {
      "text/plain": [
       "tensor(-6.4209)"
      ]
     },
     "execution_count": 238,
     "metadata": {},
     "output_type": "execute_result"
    }
   ],
   "source": [
    "x=torch.arange(12,dtype=torch.float32)\n",
    "y = torch.randn(12, dtype = torch.float32)\n",
    "torch.dot(x,y)"
   ]
  },
  {
   "cell_type": "code",
   "execution_count": 247,
   "id": "6387484b-32e4-48ca-afac-a733061e09ba",
   "metadata": {},
   "outputs": [
    {
     "data": {
      "text/plain": [
       "(tensor([[ 0,  1,  2],\n",
       "         [ 3,  4,  5],\n",
       "         [ 6,  7,  8],\n",
       "         [ 9, 10, 11]]),\n",
       " tensor([0, 1, 2]),\n",
       " tensor([ 5, 14, 23, 32]))"
      ]
     },
     "execution_count": 247,
     "metadata": {},
     "output_type": "execute_result"
    }
   ],
   "source": [
    "# 尝试矩阵乘列向量\n",
    "A=torch.arange(12).reshape(4,3)\n",
    "x=torch.arange(3)\n",
    "A,x,torch.mv(A,x)"
   ]
  },
  {
   "cell_type": "code",
   "execution_count": 253,
   "id": "9082bac4-65a6-4b66-b722-8753c8018d2b",
   "metadata": {},
   "outputs": [
    {
     "data": {
      "text/plain": [
       "tensor([[ 6.,  6.],\n",
       "        [22., 22.],\n",
       "        [38., 38.]])"
      ]
     },
     "execution_count": 253,
     "metadata": {},
     "output_type": "execute_result"
    }
   ],
   "source": [
    "# 矩阵乘法\n",
    "C=torch.arange(12,dtype=torch.float32).reshape(3,4)\n",
    "D=torch.ones(8,dtype=torch.float32).reshape(4,2)\n",
    "torch.mm(C,D)"
   ]
  },
  {
   "cell_type": "code",
   "execution_count": 267,
   "id": "30efef97-70e7-49f2-9f71-72b0bd029079",
   "metadata": {},
   "outputs": [
    {
     "data": {
      "text/plain": [
       "(tensor([[ 0.,  1.,  2.,  3.],\n",
       "         [ 4.,  5.,  6.,  7.],\n",
       "         [ 8.,  9., 10., 11.]]),\n",
       " tensor(22.4944),\n",
       " tensor(66.))"
      ]
     },
     "execution_count": 267,
     "metadata": {},
     "output_type": "execute_result"
    }
   ],
   "source": [
    "torch.norm(C),C.abs().sum()"
   ]
  },
  {
   "cell_type": "code",
   "execution_count": 283,
   "id": "bc2a5a37-c4d6-4c1f-855c-9906d1206baf",
   "metadata": {},
   "outputs": [
    {
     "data": {
      "text/plain": [
       "(torch.Size([2, 3, 4]), torch.Size([1, 3, 4]))"
      ]
     },
     "execution_count": 283,
     "metadata": {},
     "output_type": "execute_result"
    }
   ],
   "source": [
    "A=torch.ones(2,3,4)\n",
    "A.shape,A.sum(axis=0,keepdim=True).shape"
   ]
  },
  {
   "cell_type": "markdown",
   "id": "05e05ea7-a8c4-4eac-b1bb-84ba48411d8b",
   "metadata": {},
   "source": [
    "_______"
   ]
  },
  {
   "cell_type": "code",
   "execution_count": 318,
   "id": "ea41787f-a3ae-47cc-a95a-725a7affdb7b",
   "metadata": {},
   "outputs": [],
   "source": [
    "import torch\n",
    "x = torch.arange(4.0,requires_grad=True)\n",
    "x.grad # # 默认为None"
   ]
  },
  {
   "cell_type": "code",
   "execution_count": 320,
   "id": "255e4b43-f6f9-4f57-8ea4-df3c7349aa7b",
   "metadata": {},
   "outputs": [
    {
     "data": {
      "text/plain": [
       "(tensor([ 0.,  4.,  8., 12.]), tensor([True, True, True, True]))"
      ]
     },
     "execution_count": 320,
     "metadata": {},
     "output_type": "execute_result"
    }
   ],
   "source": [
    "y=2*torch.dot(x,x)\n",
    "y.backward()\n",
    "x.grad,x.grad==4*x"
   ]
  },
  {
   "cell_type": "code",
   "execution_count": 330,
   "id": "cf626e32-4432-4a4f-81d0-fa04abf22e56",
   "metadata": {},
   "outputs": [
    {
     "data": {
      "text/plain": [
       "tensor([1., 1., 1., 1.])"
      ]
     },
     "execution_count": 330,
     "metadata": {},
     "output_type": "execute_result"
    }
   ],
   "source": [
    "# 计算另一个函数\n",
    "x.grad.zero_()  #在 PyTorch 中，zero_()是一个很常用的方法。它主要用于将张量（Tensor）中的元素全部设置为 0。 例如，如果你有一个张量x = torch.tensor([1, 2, 3])，执行x.zero_()后，x的值就会变为torch.tensor([0, 0, 0])\n",
    "y=sum(x)\n",
    "y.backward()\n",
    "x.grad"
   ]
  },
  {
   "cell_type": "code",
   "execution_count": 332,
   "id": "6a58d54e-fdfd-47a2-a336-b8ca5ffe7850",
   "metadata": {},
   "outputs": [
    {
     "name": "stdout",
     "output_type": "stream",
     "text": [
      "Help on built-in function ones in module torch:\n",
      "\n",
      "ones(...)\n",
      "    ones(*size, *, out=None, dtype=None, layout=torch.strided, device=None, requires_grad=False) -> Tensor\n",
      "\n",
      "    Returns a tensor filled with the scalar value `1`, with the shape defined\n",
      "    by the variable argument :attr:`size`.\n",
      "\n",
      "    Args:\n",
      "        size (int...): a sequence of integers defining the shape of the output tensor.\n",
      "            Can be a variable number of arguments or a collection like a list or tuple.\n",
      "\n",
      "    Keyword arguments:\n",
      "        out (Tensor, optional): the output tensor.\n",
      "        dtype (:class:`torch.dtype`, optional): the desired data type of returned tensor.\n",
      "            Default: if ``None``, uses a global default (see :func:`torch.set_default_dtype`).\n",
      "        layout (:class:`torch.layout`, optional): the desired layout of returned Tensor.\n",
      "            Default: ``torch.strided``.\n",
      "        device (:class:`torch.device`, optional): the desired device of returned tensor.\n",
      "            Default: if ``None``, uses the current device for the default tensor type\n",
      "            (see :func:`torch.set_default_device`). :attr:`device` will be the CPU\n",
      "            for CPU tensor types and the current CUDA device for CUDA tensor types.\n",
      "        requires_grad (bool, optional): If autograd should record operations on the\n",
      "            returned tensor. Default: ``False``.\n",
      "\n",
      "    Example::\n",
      "\n",
      "        >>> torch.ones(2, 3)\n",
      "        tensor([[ 1.,  1.,  1.],\n",
      "                [ 1.,  1.,  1.]])\n",
      "\n",
      "        >>> torch.ones(5)\n",
      "        tensor([ 1.,  1.,  1.,  1.,  1.])\n",
      "\n"
     ]
    }
   ],
   "source": [
    "help(torch.ones)"
   ]
  },
  {
   "cell_type": "code",
   "execution_count": null,
   "id": "64fa6af9-f8a6-422d-9de7-bf569e1dedad",
   "metadata": {},
   "outputs": [],
   "source": []
  }
 ],
 "metadata": {
  "kernelspec": {
   "display_name": "lm_pytorch",
   "language": "python",
   "name": "lm_pytorch"
  },
  "language_info": {
   "codemirror_mode": {
    "name": "ipython",
    "version": 3
   },
   "file_extension": ".py",
   "mimetype": "text/x-python",
   "name": "python",
   "nbconvert_exporter": "python",
   "pygments_lexer": "ipython3",
   "version": "3.12.7"
  }
 },
 "nbformat": 4,
 "nbformat_minor": 5
}
