{
 "cells": [
  {
   "cell_type": "markdown",
   "id": "8e709cee",
   "metadata": {
    "origin_pos": 0
   },
   "source": [
    "《动手学深度学习》\n",
    "========================\n",
    "\n",
    "```eval_rst\n",
    ".. raw:: html\n",
    "   :file: frontpage.html\n",
    "```\n",
    "\n",
    ":begin_tab:toc\n",
    " - [chapter_preface/index](chapter00-01_preface/index.ipynb)\n",
    " - [chapter_installation/index](chapter00-02_installation/index.ipynb)\n",
    " - [chapter_notation/index](chapter00-03_notation/index.ipynb)\n",
    ":end_tab:\n",
    "\n",
    ":begin_tab:toc\n",
    " - [chapter_introduction/index](chapter01_introduction/index.ipynb)\n",
    " - [chapter_preliminaries/index](chapter02_preliminaries/index.ipynb)\n",
    " - [chapter_linear-networks/index](chapter03_linear-networks/index.ipynb)\n",
    " - [chapter_multilayer-perceptrons/index](chapter05_multilayer-perceptrons/index.ipynb)\n",
    " - [chapter_deep-learning-computation/index](chapter06_deep-learning-computation/index.ipynb)\n",
    " - [chapter_convolutional-neural-networks/index](chapter07_convolutional-neural-networks/index.ipynb)\n",
    " - [chapter_convolutional-modern/index](chapter08_convolutional-modern/index.ipynb)\n",
    " - [chapter_recurrent-neural-networks/index](chapter09_recurrent-neural-networks/index.ipynb)\n",
    " - [chapter_recurrent-modern/index](chapter10_recurrent-modern/index.ipynb)\n",
    " - [chapter_attention-mechanisms/index](chapter11_attention-mechanisms/index.ipynb)\n",
    " - [chapter_optimization/index](chapter12_optimization/index.ipynb)\n",
    " - [chapter_computational-performance/index](chapter13_computational-performance/index.ipynb)\n",
    " - [chapter_computer-vision/index](chapter14_computer-vision/index.ipynb)\n",
    " - [chapter_natural-language-processing-pretraining/index](chapter15_natural-language-processing-pretraining/index.ipynb)\n",
    " - [chapter_natural-language-processing-applications/index](chapter16_natural-language-processing-applications/index.ipynb)\n",
    " - [chapter_appendix-tools-for-deep-learning/index](chapter23_appendix-tools-for-deep-learning/index.ipynb)\n",
    ":end_tab:\n",
    "\n",
    ":begin_tab:toc\n",
    " - [chapter_references/zreferences](chapter24_references/zreferences.ipynb)\n",
    ":end_tab:\n"
   ]
  }
 ],
 "metadata": {
  "kernelspec": {
   "display_name": "Python 3 (ipykernel)",
   "language": "python",
   "name": "python3"
  },
  "language_info": {
   "codemirror_mode": {
    "name": "ipython",
    "version": 3
   },
   "file_extension": ".py",
   "mimetype": "text/x-python",
   "name": "python",
   "nbconvert_exporter": "python",
   "pygments_lexer": "ipython3",
   "version": "3.9.12"
  }
 },
 "nbformat": 4,
 "nbformat_minor": 5
}
